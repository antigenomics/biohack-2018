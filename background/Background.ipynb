{
 "cells": [
  {
   "cell_type": "markdown",
   "metadata": {},
   "source": [
    "# Generate background CDR3 regions kmer count from Naive T-cell donors"
   ]
  },
  {
   "cell_type": "code",
   "execution_count": 1,
   "metadata": {
    "collapsed": true
   },
   "outputs": [],
   "source": [
    "import itertools\n",
    "import collections\n",
    "import pandas as pd\n",
    "import numpy as np\n",
    "import matplotlib.pyplot as plt\n",
    "import seaborn as sns\n",
    "%matplotlib inline"
   ]
  },
  {
   "cell_type": "code",
   "execution_count": 2,
   "metadata": {
    "collapsed": true
   },
   "outputs": [],
   "source": [
    "sns.set_style(\"whitegrid\")"
   ]
  },
  {
   "cell_type": "markdown",
   "metadata": {},
   "source": [
    "## Functions"
   ]
  },
  {
   "cell_type": "markdown",
   "metadata": {},
   "source": [
    "Returns vector with each cluster weights for number of clusters"
   ]
  },
  {
   "cell_type": "code",
   "execution_count": 3,
   "metadata": {
    "collapsed": true
   },
   "outputs": [],
   "source": [
    "def make_cluster_profile_weighted(line, weights):\n",
    "    kmer_profile=collections.OrderedDict({})\n",
    "    for i in weights.columns:\n",
    "         kmer_profile[i]=0\n",
    "    for i in range(1,len(line)-3):\n",
    "        for c in weights.columns:\n",
    "            kmer_profile[c]+=weight_func(weights.ix[line[i:i+3], c])\n",
    "    vector=[]\n",
    "    for k, v in kmer_profile.items(): vector.append(v)\n",
    "    return vector"
   ]
  },
  {
   "cell_type": "markdown",
   "metadata": {},
   "source": [
    "Returns vector with counts for each cluster"
   ]
  },
  {
   "cell_type": "code",
   "execution_count": 15,
   "metadata": {
    "collapsed": true
   },
   "outputs": [],
   "source": [
    "def make_cluster_profile(line, cluster_dict, cluster_n):\n",
    "#    print(line)\n",
    "    kmer_profile=collections.OrderedDict({})\n",
    "    for i in range(1,cluster_n+1):\n",
    "        kmer_profile[str(i)]=0\n",
    "    for i in range(1,len(line)-3):\n",
    "        if line[i:i+3] in cluster_dict.keys():\n",
    "            kmer_profile[cluster_dict[line[i:i+3]]]+=1\n",
    "    vector=[]\n",
    "    for k, v in kmer_profile.items(): vector.append(v)\n",
    "    return vector"
   ]
  },
  {
   "cell_type": "markdown",
   "metadata": {},
   "source": [
    "Returns vector with count for each kmer"
   ]
  },
  {
   "cell_type": "code",
   "execution_count": 13,
   "metadata": {
    "collapsed": true
   },
   "outputs": [],
   "source": [
    "def make_kmer_profile(line, all_kmers):\n",
    "    kmer_profile=collections.OrderedDict({})\n",
    "    for i in all_kmers:\n",
    "        kmer_profile[i]=0\n",
    "    for i in range(1,len(line)-3):\n",
    "        if line[i:i+3] in all_kmers:\n",
    "            kmer_profile[line[i:i+3]]+=1\n",
    "    vector=[]\n",
    "    for k, v in kmer_profile.items(): vector.append(v)\n",
    "    return vector"
   ]
  },
  {
   "cell_type": "markdown",
   "metadata": {},
   "source": [
    "## background\n",
    "Calculation of weights in background:  \n",
    "for each of four samples calculate mean weights of classes, than compare them  \n",
    "Samples: CMV+/CMV-; for each - memory and naive (pos_M, pos_N, neg_M, neg_M)"
   ]
  },
  {
   "cell_type": "markdown",
   "metadata": {},
   "source": [
    "Reading data from all samples"
   ]
  },
  {
   "cell_type": "code",
   "execution_count": 3,
   "metadata": {
    "collapsed": true
   },
   "outputs": [],
   "source": [
    "samples={}\n",
    "sample_names=[\"pos_M\", \"pos_N\", \"neg_M\", \"neg_N\"]\n",
    "sample_paths=[\"Donor7.CD8.M.1.txt\", \"Donor7.CD8.N.1.txt\", \"Donor9.CD8.M.1.txt\", \"Donor9.CD8.N.1.txt\"]\n",
    "\n",
    "for i in range(4):\n",
    "    samples[sample_names[i]]=pd.read_table(sample_paths[i])"
   ]
  },
  {
   "cell_type": "code",
   "execution_count": 4,
   "metadata": {
    "collapsed": false
   },
   "outputs": [
    {
     "data": {
      "text/html": [
       "<div>\n",
       "<style scoped>\n",
       "    .dataframe tbody tr th:only-of-type {\n",
       "        vertical-align: middle;\n",
       "    }\n",
       "\n",
       "    .dataframe tbody tr th {\n",
       "        vertical-align: top;\n",
       "    }\n",
       "\n",
       "    .dataframe thead th {\n",
       "        text-align: right;\n",
       "    }\n",
       "</style>\n",
       "<table border=\"1\" class=\"dataframe\">\n",
       "  <thead>\n",
       "    <tr style=\"text-align: right;\">\n",
       "      <th></th>\n",
       "      <th>count</th>\n",
       "      <th>freq</th>\n",
       "      <th>cdr3nt</th>\n",
       "      <th>cdr3aa</th>\n",
       "      <th>v</th>\n",
       "      <th>d</th>\n",
       "      <th>j</th>\n",
       "      <th>VEnd</th>\n",
       "      <th>DStart</th>\n",
       "      <th>DEnd</th>\n",
       "      <th>JStart</th>\n",
       "    </tr>\n",
       "  </thead>\n",
       "  <tbody>\n",
       "    <tr>\n",
       "      <th>0</th>\n",
       "      <td>34875</td>\n",
       "      <td>0.144025</td>\n",
       "      <td>TGCAGTGCTAGCCGGGACGAATGGGGCGGCTACACCTTC</td>\n",
       "      <td>CSASRDEWGGYTF</td>\n",
       "      <td>TRBV20-1</td>\n",
       "      <td>TRBD1</td>\n",
       "      <td>TRBJ1-2</td>\n",
       "      <td>11</td>\n",
       "      <td>13</td>\n",
       "      <td>18</td>\n",
       "      <td>27</td>\n",
       "    </tr>\n",
       "    <tr>\n",
       "      <th>1</th>\n",
       "      <td>10747</td>\n",
       "      <td>0.044382</td>\n",
       "      <td>TGTGCCAGCAGCTTAGTGGGGGGGTCCACCGGGGAGCTGTTTTTT</td>\n",
       "      <td>CASSLVGGSTGELFF</td>\n",
       "      <td>TRBV7-8</td>\n",
       "      <td>TRBD2</td>\n",
       "      <td>TRBJ2-2</td>\n",
       "      <td>16</td>\n",
       "      <td>17</td>\n",
       "      <td>24</td>\n",
       "      <td>26</td>\n",
       "    </tr>\n",
       "    <tr>\n",
       "      <th>2</th>\n",
       "      <td>10374</td>\n",
       "      <td>0.042842</td>\n",
       "      <td>TGTGCCAGCAGCGTAGGTTCAGGGGGCACGAACGAGCAGTACTTC</td>\n",
       "      <td>CASSVGSGGTNEQYF</td>\n",
       "      <td>TRBV9</td>\n",
       "      <td>TRBD1</td>\n",
       "      <td>TRBJ2-7</td>\n",
       "      <td>16</td>\n",
       "      <td>19</td>\n",
       "      <td>27</td>\n",
       "      <td>31</td>\n",
       "    </tr>\n",
       "    <tr>\n",
       "      <th>3</th>\n",
       "      <td>7862</td>\n",
       "      <td>0.032468</td>\n",
       "      <td>TGTGCCAGCAGTTTAGATGATCAGCCCCAGCATTTT</td>\n",
       "      <td>CASSLDDQPQHF</td>\n",
       "      <td>TRBV12-3</td>\n",
       "      <td>.</td>\n",
       "      <td>TRBJ1-5</td>\n",
       "      <td>16</td>\n",
       "      <td>-1</td>\n",
       "      <td>-1</td>\n",
       "      <td>19</td>\n",
       "    </tr>\n",
       "    <tr>\n",
       "      <th>4</th>\n",
       "      <td>7510</td>\n",
       "      <td>0.031014</td>\n",
       "      <td>TGCAGTGCTAGATCCTCGGGACTAAACTACAATGAGCAGTTCTTC</td>\n",
       "      <td>CSARSSGLNYNEQFF</td>\n",
       "      <td>TRBV20-1</td>\n",
       "      <td>TRBD2</td>\n",
       "      <td>TRBJ2-1</td>\n",
       "      <td>12</td>\n",
       "      <td>17</td>\n",
       "      <td>24</td>\n",
       "      <td>26</td>\n",
       "    </tr>\n",
       "  </tbody>\n",
       "</table>\n",
       "</div>"
      ],
      "text/plain": [
       "   count      freq                                         cdr3nt  \\\n",
       "0  34875  0.144025        TGCAGTGCTAGCCGGGACGAATGGGGCGGCTACACCTTC   \n",
       "1  10747  0.044382  TGTGCCAGCAGCTTAGTGGGGGGGTCCACCGGGGAGCTGTTTTTT   \n",
       "2  10374  0.042842  TGTGCCAGCAGCGTAGGTTCAGGGGGCACGAACGAGCAGTACTTC   \n",
       "3   7862  0.032468           TGTGCCAGCAGTTTAGATGATCAGCCCCAGCATTTT   \n",
       "4   7510  0.031014  TGCAGTGCTAGATCCTCGGGACTAAACTACAATGAGCAGTTCTTC   \n",
       "\n",
       "            cdr3aa         v      d        j  VEnd  DStart  DEnd  JStart  \n",
       "0    CSASRDEWGGYTF  TRBV20-1  TRBD1  TRBJ1-2    11      13    18      27  \n",
       "1  CASSLVGGSTGELFF   TRBV7-8  TRBD2  TRBJ2-2    16      17    24      26  \n",
       "2  CASSVGSGGTNEQYF     TRBV9  TRBD1  TRBJ2-7    16      19    27      31  \n",
       "3     CASSLDDQPQHF  TRBV12-3      .  TRBJ1-5    16      -1    -1      19  \n",
       "4  CSARSSGLNYNEQFF  TRBV20-1  TRBD2  TRBJ2-1    12      17    24      26  "
      ]
     },
     "execution_count": 4,
     "metadata": {},
     "output_type": "execute_result"
    }
   ],
   "source": [
    "samples[\"pos_M\"].head()"
   ]
  },
  {
   "cell_type": "code",
   "execution_count": 5,
   "metadata": {
    "collapsed": true
   },
   "outputs": [],
   "source": [
    "naive=pd.concat([samples[\"pos_N\"], samples[\"neg_N\"]])"
   ]
  },
  {
   "cell_type": "code",
   "execution_count": 6,
   "metadata": {
    "collapsed": true
   },
   "outputs": [],
   "source": [
    "naive_unique=pd.DataFrame(naive.groupby(by=\"cdr3aa\")['freq'].sum())"
   ]
  },
  {
   "cell_type": "code",
   "execution_count": 11,
   "metadata": {
    "collapsed": false
   },
   "outputs": [],
   "source": [
    "naive_unique.reset_index(inplace=True)"
   ]
  },
  {
   "cell_type": "code",
   "execution_count": 12,
   "metadata": {
    "collapsed": false
   },
   "outputs": [
    {
     "data": {
      "text/html": [
       "<div>\n",
       "<style scoped>\n",
       "    .dataframe tbody tr th:only-of-type {\n",
       "        vertical-align: middle;\n",
       "    }\n",
       "\n",
       "    .dataframe tbody tr th {\n",
       "        vertical-align: top;\n",
       "    }\n",
       "\n",
       "    .dataframe thead th {\n",
       "        text-align: right;\n",
       "    }\n",
       "</style>\n",
       "<table border=\"1\" class=\"dataframe\">\n",
       "  <thead>\n",
       "    <tr style=\"text-align: right;\">\n",
       "      <th></th>\n",
       "      <th>cdr3aa</th>\n",
       "      <th>freq</th>\n",
       "    </tr>\n",
       "  </thead>\n",
       "  <tbody>\n",
       "    <tr>\n",
       "      <th>0</th>\n",
       "      <td>CAAAALRNTQYF</td>\n",
       "      <td>0.000007</td>\n",
       "    </tr>\n",
       "    <tr>\n",
       "      <th>1</th>\n",
       "      <td>CAAACMG_HVDEQYF</td>\n",
       "      <td>0.000003</td>\n",
       "    </tr>\n",
       "    <tr>\n",
       "      <th>2</th>\n",
       "      <td>CAAACPG_ESYEQYF</td>\n",
       "      <td>0.000003</td>\n",
       "    </tr>\n",
       "    <tr>\n",
       "      <th>3</th>\n",
       "      <td>CAAAGGAPYEQYF</td>\n",
       "      <td>0.000013</td>\n",
       "    </tr>\n",
       "    <tr>\n",
       "      <th>4</th>\n",
       "      <td>CAAAGGATNEKLFF</td>\n",
       "      <td>0.000003</td>\n",
       "    </tr>\n",
       "  </tbody>\n",
       "</table>\n",
       "</div>"
      ],
      "text/plain": [
       "            cdr3aa      freq\n",
       "0     CAAAALRNTQYF  0.000007\n",
       "1  CAAACMG_HVDEQYF  0.000003\n",
       "2  CAAACPG_ESYEQYF  0.000003\n",
       "3    CAAAGGAPYEQYF  0.000013\n",
       "4   CAAAGGATNEKLFF  0.000003"
      ]
     },
     "execution_count": 12,
     "metadata": {},
     "output_type": "execute_result"
    }
   ],
   "source": [
    "naive_unique.head()"
   ]
  },
  {
   "cell_type": "code",
   "execution_count": 13,
   "metadata": {
    "collapsed": true
   },
   "outputs": [],
   "source": [
    "naive_unique.to_csv(\"naive_unique_cdr3.csv\", index=False)"
   ]
  },
  {
   "cell_type": "markdown",
   "metadata": {},
   "source": [
    "Reading tables with 100 clusters for kmers"
   ]
  },
  {
   "cell_type": "code",
   "execution_count": 9,
   "metadata": {
    "collapsed": true
   },
   "outputs": [],
   "source": [
    "clusters100={}\n",
    "with open(\"vdjam_clusters100_ids.txt\") as f:\n",
    "    for l in f.readlines():\n",
    "        line=l.split(\"\\t\")\n",
    "        clusters100[line[0]]=line[1][:-1]"
   ]
  },
  {
   "cell_type": "code",
   "execution_count": null,
   "metadata": {
    "collapsed": true
   },
   "outputs": [],
   "source": []
  },
  {
   "cell_type": "markdown",
   "metadata": {},
   "source": [
    "Calculating vector with presence of each cluster frequency in the bulk data:  \n",
    "1) count for each cdr3 how many times each class of kmers is present  \n",
    "2) miltiply by the frequency of each cdr3 in the population  \n",
    "3) sum for each class  \n",
    "4) normalize by total sum of frequencies"
   ]
  },
  {
   "cell_type": "code",
   "execution_count": 16,
   "metadata": {
    "collapsed": false
   },
   "outputs": [],
   "source": [
    "samp_vec=naive_unique[\"cdr3aa\"].apply(lambda x: make_cluster_profile(x, clusters100, 100))\n",
    "samp_vec_df=pd.DataFrame.from_records(samp_vec.tolist(), columns=['c'+str(i) for i in range (1, 101)])"
   ]
  },
  {
   "cell_type": "code",
   "execution_count": 17,
   "metadata": {
    "collapsed": false
   },
   "outputs": [
    {
     "data": {
      "text/html": [
       "<div>\n",
       "<style scoped>\n",
       "    .dataframe tbody tr th:only-of-type {\n",
       "        vertical-align: middle;\n",
       "    }\n",
       "\n",
       "    .dataframe tbody tr th {\n",
       "        vertical-align: top;\n",
       "    }\n",
       "\n",
       "    .dataframe thead th {\n",
       "        text-align: right;\n",
       "    }\n",
       "</style>\n",
       "<table border=\"1\" class=\"dataframe\">\n",
       "  <thead>\n",
       "    <tr style=\"text-align: right;\">\n",
       "      <th></th>\n",
       "      <th>c1</th>\n",
       "      <th>c2</th>\n",
       "      <th>c3</th>\n",
       "      <th>c4</th>\n",
       "      <th>c5</th>\n",
       "      <th>c6</th>\n",
       "      <th>c7</th>\n",
       "      <th>c8</th>\n",
       "      <th>c9</th>\n",
       "      <th>c10</th>\n",
       "      <th>...</th>\n",
       "      <th>c91</th>\n",
       "      <th>c92</th>\n",
       "      <th>c93</th>\n",
       "      <th>c94</th>\n",
       "      <th>c95</th>\n",
       "      <th>c96</th>\n",
       "      <th>c97</th>\n",
       "      <th>c98</th>\n",
       "      <th>c99</th>\n",
       "      <th>c100</th>\n",
       "    </tr>\n",
       "  </thead>\n",
       "  <tbody>\n",
       "    <tr>\n",
       "      <th>0</th>\n",
       "      <td>2</td>\n",
       "      <td>0</td>\n",
       "      <td>0</td>\n",
       "      <td>0</td>\n",
       "      <td>0</td>\n",
       "      <td>0</td>\n",
       "      <td>0</td>\n",
       "      <td>0</td>\n",
       "      <td>1</td>\n",
       "      <td>0</td>\n",
       "      <td>...</td>\n",
       "      <td>0</td>\n",
       "      <td>0</td>\n",
       "      <td>0</td>\n",
       "      <td>0</td>\n",
       "      <td>0</td>\n",
       "      <td>0</td>\n",
       "      <td>0</td>\n",
       "      <td>0</td>\n",
       "      <td>0</td>\n",
       "      <td>0</td>\n",
       "    </tr>\n",
       "    <tr>\n",
       "      <th>1</th>\n",
       "      <td>1</td>\n",
       "      <td>1</td>\n",
       "      <td>0</td>\n",
       "      <td>0</td>\n",
       "      <td>0</td>\n",
       "      <td>0</td>\n",
       "      <td>0</td>\n",
       "      <td>0</td>\n",
       "      <td>0</td>\n",
       "      <td>0</td>\n",
       "      <td>...</td>\n",
       "      <td>0</td>\n",
       "      <td>0</td>\n",
       "      <td>0</td>\n",
       "      <td>0</td>\n",
       "      <td>0</td>\n",
       "      <td>0</td>\n",
       "      <td>0</td>\n",
       "      <td>0</td>\n",
       "      <td>0</td>\n",
       "      <td>0</td>\n",
       "    </tr>\n",
       "    <tr>\n",
       "      <th>2</th>\n",
       "      <td>1</td>\n",
       "      <td>1</td>\n",
       "      <td>0</td>\n",
       "      <td>0</td>\n",
       "      <td>0</td>\n",
       "      <td>0</td>\n",
       "      <td>0</td>\n",
       "      <td>0</td>\n",
       "      <td>0</td>\n",
       "      <td>0</td>\n",
       "      <td>...</td>\n",
       "      <td>0</td>\n",
       "      <td>0</td>\n",
       "      <td>0</td>\n",
       "      <td>0</td>\n",
       "      <td>0</td>\n",
       "      <td>0</td>\n",
       "      <td>0</td>\n",
       "      <td>0</td>\n",
       "      <td>0</td>\n",
       "      <td>0</td>\n",
       "    </tr>\n",
       "    <tr>\n",
       "      <th>3</th>\n",
       "      <td>2</td>\n",
       "      <td>0</td>\n",
       "      <td>1</td>\n",
       "      <td>0</td>\n",
       "      <td>0</td>\n",
       "      <td>2</td>\n",
       "      <td>0</td>\n",
       "      <td>0</td>\n",
       "      <td>1</td>\n",
       "      <td>0</td>\n",
       "      <td>...</td>\n",
       "      <td>0</td>\n",
       "      <td>0</td>\n",
       "      <td>0</td>\n",
       "      <td>0</td>\n",
       "      <td>0</td>\n",
       "      <td>0</td>\n",
       "      <td>0</td>\n",
       "      <td>0</td>\n",
       "      <td>0</td>\n",
       "      <td>0</td>\n",
       "    </tr>\n",
       "    <tr>\n",
       "      <th>4</th>\n",
       "      <td>2</td>\n",
       "      <td>0</td>\n",
       "      <td>0</td>\n",
       "      <td>0</td>\n",
       "      <td>0</td>\n",
       "      <td>2</td>\n",
       "      <td>0</td>\n",
       "      <td>1</td>\n",
       "      <td>1</td>\n",
       "      <td>1</td>\n",
       "      <td>...</td>\n",
       "      <td>0</td>\n",
       "      <td>0</td>\n",
       "      <td>0</td>\n",
       "      <td>0</td>\n",
       "      <td>0</td>\n",
       "      <td>0</td>\n",
       "      <td>0</td>\n",
       "      <td>0</td>\n",
       "      <td>0</td>\n",
       "      <td>0</td>\n",
       "    </tr>\n",
       "  </tbody>\n",
       "</table>\n",
       "<p>5 rows × 100 columns</p>\n",
       "</div>"
      ],
      "text/plain": [
       "   c1  c2  c3  c4  c5  c6  c7  c8  c9  c10  ...   c91  c92  c93  c94  c95  \\\n",
       "0   2   0   0   0   0   0   0   0   1    0  ...     0    0    0    0    0   \n",
       "1   1   1   0   0   0   0   0   0   0    0  ...     0    0    0    0    0   \n",
       "2   1   1   0   0   0   0   0   0   0    0  ...     0    0    0    0    0   \n",
       "3   2   0   1   0   0   2   0   0   1    0  ...     0    0    0    0    0   \n",
       "4   2   0   0   0   0   2   0   1   1    1  ...     0    0    0    0    0   \n",
       "\n",
       "   c96  c97  c98  c99  c100  \n",
       "0    0    0    0    0     0  \n",
       "1    0    0    0    0     0  \n",
       "2    0    0    0    0     0  \n",
       "3    0    0    0    0     0  \n",
       "4    0    0    0    0     0  \n",
       "\n",
       "[5 rows x 100 columns]"
      ]
     },
     "execution_count": 17,
     "metadata": {},
     "output_type": "execute_result"
    }
   ],
   "source": [
    "samp_vec_df.head()"
   ]
  },
  {
   "cell_type": "code",
   "execution_count": 18,
   "metadata": {
    "collapsed": false
   },
   "outputs": [],
   "source": [
    "freqs=naive_unique[\"freq\"].tolist()\n",
    "vec_of_means_clusters_bg=samp_vec_df.mul(freqs, axis=0).sum(axis=0)/sum(samp_vec_df.mul(freqs, axis=0).sum(axis=1))"
   ]
  },
  {
   "cell_type": "code",
   "execution_count": 20,
   "metadata": {
    "collapsed": false
   },
   "outputs": [
    {
     "data": {
      "text/plain": [
       "0.9999999999995277"
      ]
     },
     "execution_count": 20,
     "metadata": {},
     "output_type": "execute_result"
    }
   ],
   "source": [
    "sum(vec_of_means_clusters_bg)"
   ]
  }
 ],
 "metadata": {
  "kernelspec": {
   "display_name": "Python [Root]",
   "language": "python",
   "name": "Python [Root]"
  },
  "language_info": {
   "codemirror_mode": {
    "name": "ipython",
    "version": 3
   },
   "file_extension": ".py",
   "mimetype": "text/x-python",
   "name": "python",
   "nbconvert_exporter": "python",
   "pygments_lexer": "ipython3",
   "version": "3.5.2"
  }
 },
 "nbformat": 4,
 "nbformat_minor": 0
}
